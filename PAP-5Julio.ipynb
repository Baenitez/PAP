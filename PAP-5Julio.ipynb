{
 "cells": [
  {
   "cell_type": "markdown",
   "metadata": {},
   "source": [
    "## PAP, 1ro de julio"
   ]
  },
  {
   "cell_type": "code",
   "execution_count": 1,
   "metadata": {},
   "outputs": [],
   "source": [
    "#Librerias a utilizar\n",
    "import numpy as np\n",
    "import pandas as pd\n",
    "from collections import Counter\n",
    "import matplotlib.pyplot as plt\n",
    "from IPython.display import HTML, display_html, display"
   ]
  },
  {
   "cell_type": "code",
   "execution_count": 2,
   "metadata": {},
   "outputs": [
    {
     "name": "stdout",
     "output_type": "stream",
     "text": [
      "C:\\Users\\Alejandro\n"
     ]
    }
   ],
   "source": [
    "cd"
   ]
  },
  {
   "cell_type": "code",
   "execution_count": 3,
   "metadata": {},
   "outputs": [
    {
     "name": "stdout",
     "output_type": "stream",
     "text": [
      "C:\\Users\\Alejandro\\Desktop\n"
     ]
    }
   ],
   "source": [
    "cd C:/Users/Alejandro/Desktop"
   ]
  },
  {
   "cell_type": "code",
   "execution_count": 4,
   "metadata": {},
   "outputs": [],
   "source": [
    "#Se realiza la lectura del archivo .csv\n",
    "myFile = pd.read_csv('PAP.csv')"
   ]
  },
  {
   "cell_type": "code",
   "execution_count": 5,
   "metadata": {},
   "outputs": [],
   "source": [
    "#Se inicializa una nueva variable llamada \"structuredData\"\n",
    "structuredData = []\n",
    "\n",
    "# Jalamos los valores de cada columna en un arreglo, la longitud se toma en cuenta como la longitud del .csv \n",
    "# que anteriormente definimos como \"myFile\"\n",
    "\n",
    "for i in range(len(myFile)):\n",
    "    \n",
    "    #Se jalan del \"myFile\" las columnas que se van a utilizar, es necesario que se llamen igual que en el .csv\n",
    "    \n",
    "    #Jalamos la columa Item del .csv\n",
    "    itemArr = myFile.loc[:,'Item']\n",
    "    item = itemArr.values[i]\n",
    "    \n",
    "    #Jalamos la columna Types del .csv\n",
    "    typArr = myFile.loc[:,'Type']\n",
    "    typ = typArr.values[i]\n",
    "    \n",
    "    #Jalamos la columna Inicio del .csv\n",
    "    inicioArr = myFile.loc[:,'Inicio']\n",
    "    inicio = inicioArr.values[i]\n",
    "    \n",
    "    #Jalamos la columna Fin del .csv\n",
    "    finArr = myFile.loc[:,'Fin']\n",
    "    fin = finArr.values[i]\n",
    "    \n",
    "    #Jalamos la columna Profit del .csv\n",
    "    proArr = myFile.loc[:,'Profit']\n",
    "    profit = proArr.values[i]\n",
    "    \n",
    "    #Izquierda y Derecha {first3 : last3}, utilizan o las primeras o las ultimas 3 letras del \"Item\"\n",
    "    izq = item[:3]\n",
    "    der = item[3:]\n",
    "    \n",
    "    #Se acomodan la variable \"structuredData\" con cada una de las variables que se definieron anteriormente\n",
    "    structuredData.append([izq, der, typ, inicio, fin, profit])\n",
    "\n",
    "#Se inicializa una nueva variable llamada \"finalResult\"\n",
    "finalResult = []\n",
    "\n",
    "# Meter los valores de cada columna en un arreglo, la longitud se toma en cuenta como la longitud del structuredData\n",
    "\n",
    "for i in range(len(structuredData)):\n",
    "    # Valores de la posicion actual del arreglo, la columna en la que va cada variable dentro de nuestro \"structuredData\"\n",
    "    izq = structuredData[i][0]\n",
    "    der = structuredData[i][1]\n",
    "    typ = structuredData[i][2]\n",
    "    inicio = structuredData[i][3]\n",
    "    fin = structuredData[i][4]\n",
    "    profit = structuredData[i][5]\n",
    "    \n",
    "    #Se definen las variables \"dif\" y \"pip\" como un 0\n",
    "    dif = 0\n",
    "    pip = 0;\n",
    "\n",
    "    # Condiciona si es sell o buy y pasa a ser el \"dif\"\n",
    "    if typ == 'buy':\n",
    "        dif = fin - inicio\n",
    "    elif typ == 'sell':\n",
    "        dif = inicio - fin\n",
    "        \n",
    "    # Las condiciones por si es XAU, USO, JPY o ninguna de esas dos. = PIP\n",
    "    if(structuredData[i][0] == 'xau'):\n",
    "        pip = (dif * (10))\n",
    "    elif(structuredData[i][0] == 'uso'):\n",
    "        pip = (dif * (100))\n",
    "    elif(structuredData[i][1] == 'jpy'):\n",
    "        pip = (dif * (100))\n",
    "    else:\n",
    "        pip = (dif*(10000))\n",
    "    \n",
    "    #Agregamos a nuestro \"finalResult\" las variables de \"dif\" y de \"pip\"\n",
    "    finalResult.append([izq, der, typ ,round(inicio,2) ,round(fin,2), profit ,round(dif,2) , pip])\n",
    "\n",
    "    \n",
    "#Convertimos \"finalResult\" en un DataFrame y lo llamamos \"ResultadoFinal\"\n",
    "ResultadoFinal = pd.DataFrame(finalResult)\n",
    "\n",
    "#Se nombran las columnas\n",
    "ResultadoFinal.columns = ['Izq', 'Der', 'Sell/Buy', 'Inicio', 'Fin', 'Profit', 'Dif', 'PIP']"
   ]
  },
  {
   "cell_type": "code",
   "execution_count": 6,
   "metadata": {},
   "outputs": [
    {
     "name": "stdout",
     "output_type": "stream",
     "text": [
      "     Izq  Der Sell/Buy   Inicio      Fin  Profit    Dif      Tipo    PIP\n",
      "0    gbp  usd     sell     1.31     1.31   -2.70  -0.00   Scalper   -0.9\n",
      "1    gbp  usd     sell     1.31     1.31   -0.75  -0.00   Scalper   -1.5\n",
      "2    gbp  jpy     sell   146.56   146.38    1.54   0.17  Intradia   17.2\n",
      "3    gbp  jpy     sell   146.68   146.39    2.64   0.30  Intradia   29.5\n",
      "4    eur  jpy     sell   126.44   126.30    1.34   0.15   Scalper   15.0\n",
      "5    gbp  jpy     sell   146.75   146.41    6.04   0.34  Intradia   33.8\n",
      "6    aud  usd      buy     0.71     0.72    9.55   0.00  Intradia   19.1\n",
      "7    gbp  aud     sell     1.83     1.83    2.94   0.00  Intradia   41.0\n",
      "8    aud  usd      buy     0.71     0.72    2.02   0.00  Intradia   20.2\n",
      "9    gbp  nzd     sell     1.94     1.93    5.76   0.00  Intradia   42.6\n",
      "10   gbp  usd     sell     1.31     1.31    6.70   0.00  Intradia   33.5\n",
      "11   xau  usd      buy  1280.90  1273.94  -13.92  -6.96     Swing  -69.6\n",
      "12   xau  usd      buy  1284.19  1274.16  -20.06 -10.03     Swing -100.3\n",
      "13   eur  nzd     sell     1.67     1.67    8.99   0.01     Swing   66.3\n",
      "14   nzd  jpy     sell    75.53    74.90   11.21   0.63     Swing   62.8\n",
      "15   usd  jpy     sell   111.99   112.16  -14.98  -0.17  Intradia  -16.8\n",
      "16   nzd  usd      buy     0.67     0.67    2.73   0.00  Intradia   27.3\n",
      "17   nzd  usd      buy     0.67     0.67    2.49   0.00  Intradia   24.9\n",
      "18   eur  nzd     sell     1.68     1.68    3.42   0.01     Swing   50.6\n",
      "19   gbp  nzd     sell     1.94     1.94    4.99   0.01     Swing   73.8\n",
      "20   usd  chf     sell     1.00     1.01   -6.85  -0.01     Swing  -69.2\n",
      "21   usd  chf     sell     1.00     1.01   -6.85  -0.01     Swing  -69.2\n",
      "22   xau  usd      buy  1284.17  1273.95  -10.22 -10.22     Swing -102.2\n",
      "23   xau  usd      buy  1284.26  1273.95  -10.31 -10.31     Swing -103.1\n",
      "24   eur  jpy     sell   126.30   126.52   -1.93  -0.22  Intradia  -21.6\n",
      "25   xau  usd      buy  1284.69  1273.95  -10.74 -10.74     Swing -107.4\n",
      "26   usd  jpy     sell   111.97   112.02   -0.48  -0.05   Scalper   -5.4\n",
      "27   eur  chf     sell     1.14     1.14   -5.01  -0.01     Swing  -50.6\n",
      "28   usd  mxn      buy    18.89    18.81   -3.87  -0.07     Swing -728.8\n",
      "29   aud  nzd     sell     1.07     1.07    0.26   0.00   Scalper    4.0\n",
      "..   ...  ...      ...      ...      ...     ...    ...       ...    ...\n",
      "197  usd  cad     sell     1.34     1.34    3.82   0.00  Intradia   25.6\n",
      "198  nzd  usd      buy     0.65     0.65   -3.63  -0.00   Scalper  -12.1\n",
      "199  aud  nzd     sell     1.06     1.06   -3.41  -0.00  Intradia  -17.5\n",
      "200  eur  jpy      buy   123.26   122.59  -12.34  -0.68     Swing  -67.9\n",
      "201  aud  jpy      buy    75.95    75.64   -5.60  -0.31  Intradia  -30.8\n",
      "202  usd  chf     sell     1.01     1.00   11.32   0.01     Swing   56.8\n",
      "203  gbp  aud      buy     1.84     1.83   -8.90  -0.01     Swing  -64.4\n",
      "204  eur  aud     sell     1.62     1.62    6.61   0.00  Intradia   47.7\n",
      "205  gbp  cad      buy     1.71     1.71   -2.96  -0.00  Intradia  -19.9\n",
      "206  xau  usd     sell  1283.32  1278.13   10.38   5.19     Swing   51.9\n",
      "207  nzd  chf      buy     0.66     0.66    2.60   0.00   Scalper   13.1\n",
      "208  eur  aud     sell     1.61     1.61    2.94   0.00  Intradia   21.2\n",
      "209  xau  usd      buy  1278.45  1284.13   11.36   5.68     Swing   56.8\n",
      "210  chf  jpy     sell   108.89   108.52    6.72   0.37  Intradia   36.7\n",
      "211  gbp  usd     sell     1.27     1.26    7.04   0.00  Intradia   35.2\n",
      "212  xau  usd     sell  1284.85  1278.45   12.80   6.40     Swing   64.0\n",
      "213  usd  jpy     sell   109.46   108.74   13.26   0.72     Swing   72.1\n",
      "214  usd  cad     sell     1.35     1.36   -6.70  -0.00     Swing  -45.4\n",
      "215  eur  nzd     sell     1.71     1.71   -6.92  -0.01     Swing  -53.2\n",
      "216  eur  usd      buy     1.11     1.12    7.90   0.00   Scalper    7.9\n",
      "217  eur  usd      buy     1.12     1.12    7.00   0.00   Scalper    7.0\n",
      "218  eur  cad     sell     1.51     1.51   -2.92  -0.00  Intradia  -19.8\n",
      "219  usd  chf     sell     1.01     1.00    5.12   0.00  Intradia   25.7\n",
      "220  usd  cad     sell     1.35     1.35   11.16   0.01     Swing   50.1\n",
      "221  aud  usd     sell     0.70     0.70   -3.51  -0.00   Scalper  -11.7\n",
      "222  eur  nzd     sell     1.70     1.70   -2.78  -0.00  Intradia  -20.9\n",
      "223  eur  usd     sell     1.13     1.13    8.43   0.00  Intradia   28.1\n",
      "224  usd  cad      buy     1.34     1.34    4.63   0.00  Intradia   20.7\n",
      "225  usd  jpy      buy   107.98   108.01    0.81   0.03   Scalper    2.9\n",
      "226  aud  jpy      buy    75.71    75.50   -5.89  -0.21  Intradia  -21.2\n",
      "\n",
      "[227 rows x 9 columns]\n"
     ]
    }
   ],
   "source": [
    "# El siguiente bloque de codigo lo utilizamos para clasificar los PIP's de la transaccion en el tipo\n",
    "# de trade que entra dicha transaccion dependiendo de sus PIP's, separa entre Scalper, Intradia, Swing\n",
    "\n",
    "# Se utilizaron los siguientes parametros\n",
    "# Scalper: Rango de -15 a + 15 pips\n",
    "# Intradia: Rango de -40 a -16 y +15 a +50 pips\n",
    "# Swing: Rango menor a -41 pips y mayor a 51 pips\n",
    "\n",
    "x = ResultadoFinal['PIP']\n",
    "nueva_lista=[]\n",
    "for i in range(len(x)):\n",
    "    if x[i]>=-15 and x[i]<=15:\n",
    "        nueva_lista.append(\"Scalper\")\n",
    "    else:\n",
    "        if x[i]>=-16 and x[i]<=16:\n",
    "            nueva_lista.append(\"Intradia\")\n",
    "        else:\n",
    "            if x[i]>=-40 and x[i]<=50:\n",
    "                nueva_lista.append(\"Intradia\")\n",
    "            else:\n",
    "                nueva_lista.append(\"Swing\")\n",
    "\n",
    "#Definimos la variable de \"colnames\" como la lista de todas las columnas de \"ResultadoFinal\" asignada arriba                \n",
    "colnames = list(ResultadoFinal.columns)\n",
    "\n",
    "#Creamos una nueva variable llamada \"Tipo\" que va con el \"ResultadoFinal\"\n",
    "ResultadoFinal[\"Tipo\"] = nueva_lista\n",
    "\n",
    "#Insertamos en la columna 7 esta variable creada arriba\n",
    "colnames.insert(7,'Tipo')\n",
    "\n",
    "#Esta nueva tabla con \"Tipo\" incluido se denomino como \"Tabla_Final\"\n",
    "Tabla_Final = ResultadoFinal[colnames]\n",
    "\n",
    "#Hace display a \"Tabla Final\"\n",
    "print(Tabla_Final)"
   ]
  },
  {
   "cell_type": "code",
   "execution_count": 7,
   "metadata": {
    "scrolled": false
   },
   "outputs": [
    {
     "name": "stdout",
     "output_type": "stream",
     "text": [
      "Tu trader tiene una preferencia de tipo Intradia con 122 de 227 totales de trades realizados\n"
     ]
    },
    {
     "data": {
      "image/png": "[encoded data removed]",
      "text/plain": [
       "<matplotlib.figure.Figure at 0xee93599748>"
      ]
     },
     "metadata": {},
     "output_type": "display_data"
    }
   ],
   "source": [
    "#Contador de trades realizados, utilizamos la herramienta de \"count\" de la libreria \"Counter\"\n",
    "\n",
    "#Contamos cuantos trades fueron Intradia\n",
    "ic = nueva_lista.count(\"Intradia\")\n",
    "\n",
    "#Contamos cuantos trades fueron Scalper\n",
    "sc = nueva_lista.count(\"Scalper\")\n",
    "\n",
    "#Contamos cuantos trades fueron Swing\n",
    "swc = nueva_lista.count(\"Swing\")\n",
    "\n",
    "#Cramos la variable \"listado\" que incluye los numeros de trades contabilizados en las variables\n",
    "# ic (Intadia), sc(Scalper), swc(Swing)\n",
    "listado = [ic, sc, swc]\n",
    "\n",
    "#Definimos una nueva varible llamada \"ttrades\", la cual jala la longitud de la variable \"x\",\n",
    "#esto con el fin de tener el valor total de cuantos trades se realizaron\n",
    "ttrades = len(x)\n",
    "\n",
    "#Extraemos el maximo valor de \"listacond\" para poder imprimir que tipo de preferencia tiene el trader\n",
    "listacond = max(listado)\n",
    "\n",
    "if listacond == ic:\n",
    "    print(\"Tu trader tiene una preferencia de tipo Intradia con\", ic, \"de\", ttrades, \"totales de trades realizados\")\n",
    "else:\n",
    "    if listacond == sc:\n",
    "        print(\"Tu trader tiene una preferencia de tipo Scalper con\", sc, \"de\", ttrades, \"totales de trades realizados\")\n",
    "    else:\n",
    "        print(\"Tu trader tiene una preferencia de tipo Swing con\", swc, \"de\", ttrades, \"totales de trades realizados\")\n",
    "\n",
    "#Etiquetas de la grafica de pastel\n",
    "labels = 'Intradia', 'Scalper', 'Swing'\n",
    "#Recordar que el nombre de las etiquetas tienen que estar en el mismo orden como se asignan las variables\n",
    "\n",
    "#Notese como se pone \"Intradia\" y en \"sizes\" la primer variable es \"ic\", que arriba se definio como Intradia\n",
    "sizes = [ic, sc, swc]\n",
    "\n",
    "#Parametros de la grafica de pastel\n",
    "colors = ['royalblue', 'goldenrod', 'tomato'] #Colores\n",
    "explode = (0.05, 0, 0)  #Separa el primer pedazo de la grafica de las otras 2\n",
    "plt.pie(sizes, explode, labels, colors, autopct='%.2f') #Condiciones para grafica de pastel\n",
    "plt.axis('equal') #Condicionante\n",
    "\n",
    "#Imprime la grafica de pastel\n",
    "plt.show()"
   ]
  },
  {
   "cell_type": "code",
   "execution_count": 8,
   "metadata": {},
   "outputs": [
    {
     "data": {
      "image/png": "[encoded data removed]",
      "text/plain": [
       "<matplotlib.figure.Figure at 0xee935992b0>"
      ]
     },
     "metadata": {},
     "output_type": "display_data"
    }
   ],
   "source": [
    "#Porcentaje de ventas y compras realizados (de las transacciones totales)\n",
    "\n",
    "#Definimos una nueva variable llamada \"nueva_lista2\", la cual es la columna de \"Type\" en \"myFile\"\n",
    "nueva_lista2 = myFile[\"Type\"]\n",
    "\n",
    "#Definimos una variable que cuantificara la cantidad de los tipos de variables que hay\n",
    "#en este caso, nos dira cuantos \"Buy\" y cuantos \"Sell\" hay en la lista (son las unicas 2 palabras que se usan en Type)\n",
    "ic2 = nueva_lista2.value_counts(\"\")\n",
    "\n",
    "#Creamos una nueva variable que convierte \"ic2\" en una lista para poder manipularla mas facilmente\n",
    "ic3 = ic2.tolist()\n",
    "\n",
    "#Definimos las variables buy2 y sell2 que nos ayudan a obtener el porcentaje de trades que se hicieron\n",
    "#en ic3 tanto de compra como de venta como de venta\n",
    "buy2 = (ic3[0])/len(nueva_lista2)\n",
    "sell2 = (ic3[1])/len(nueva_lista2)\n",
    "\n",
    "#Etiquetas de la grafica de pastel\n",
    "labels = 'Sell', 'Buy'\n",
    "#Recordar que el nombre de las etiquetas tienen que estar en el mismo orden como se asignan las variables\n",
    "\n",
    "#Notese como se pone \"sell2\" y en \"sizes\" la primer variable es \"sell2\", que arriba se definio como Sell\n",
    "sizes = [sell2, buy2]\n",
    "\n",
    "#Parametros de la grafica de pastel\n",
    "colors = ['royalblue', 'goldenrod'] #Colores\n",
    "explode = (0.05, 0) #Separa el primer pedazo de la grafica de la otra\n",
    "plt.pie(sizes, explode, labels, colors, autopct=('%.2f')) #Condiciones para grafica de pastel\n",
    "plt.axis('equal') #Condicionante\\\n",
    "\n",
    "#Imprime la grafica de pastel\n",
    "plt.suptitle('Operaciones tipo Buy y operaciones tipo Sell', color = 'mediumblue', size = 17)\n",
    "plt.show()"
   ]
  },
  {
   "cell_type": "code",
   "execution_count": 9,
   "metadata": {},
   "outputs": [
    {
     "name": "stderr",
     "output_type": "stream",
     "text": [
      "C:\\Users\\Alejandro\\Anaconda\\lib\\site-packages\\ipykernel_launcher.py:13: SettingWithCopyWarning: \n",
      "A value is trying to be set on a copy of a slice from a DataFrame.\n",
      "Try using .loc[row_indexer,col_indexer] = value instead\n",
      "\n",
      "See the caveats in the documentation: http://pandas.pydata.org/pandas-docs/stable/indexing.html#indexing-view-versus-copy\n",
      "  del sys.path[0]\n"
     ]
    }
   ],
   "source": [
    "#se hace una condicion en la cual ponga una columna de 0 y 1 si el profit es negativo o positivo\n",
    "k = ResultadoFinal['Profit']\n",
    "dd = []\n",
    "\n",
    "for i in range(len(k)):\n",
    "    if k[i]>0:\n",
    "        dd.append(1)\n",
    "    else:\n",
    "        if k[i]<0:\n",
    "            dd.append(0)\n",
    "\n",
    "colnames2=list(Tabla_Final.columns)\n",
    "Tabla_Final[\"ProfitB\"] = dd\n",
    "Tabla_Final2=Tabla_Final[colnames2]"
   ]
  },
  {
   "cell_type": "code",
   "execution_count": 10,
   "metadata": {},
   "outputs": [
    {
     "data": {
      "image/png": "[encoded data removed]",
      "text/plain": [
       "<matplotlib.figure.Figure at 0xee936b7438>"
      ]
     },
     "metadata": {},
     "output_type": "display_data"
    }
   ],
   "source": [
    "#Contador de tipo de trades realizados\n",
    "#de esta manera al sumar los 1 son la cantidad de profit positivo y asi podemos sacar el ratio\n",
    "trpo = sum(dd)\n",
    "ttrades2 = ttrades - trpo\n",
    "\n",
    "gano = trpo\n",
    "perdio = ttrades2\n",
    "\n",
    "#Parametros de la lista\n",
    "labels = ('Operacion Positivo', 'Operacion Negativo')\n",
    "sizes = [gano, perdio]\n",
    "colors = ['royalblue', 'goldenrod']\n",
    "explode = (0.1, 0)  # explode 1st slice\n",
    "\n",
    "#Plot\n",
    "plt.pie(sizes, explode=explode, labels=labels, colors=colors,\n",
    "autopct='%1.1f%%', shadow=True, startangle=150)\n",
    "plt.axis('equal')\n",
    "plt.suptitle('Operaciones con resultado negativo y resultado positivo', color = 'mediumblue', size = 17)\n",
    "plt.show()"
   ]
  },
  {
   "cell_type": "code",
   "execution_count": 11,
   "metadata": {},
   "outputs": [],
   "source": [
    "k = ResultadoFinal['Profit']\n",
    "kk= ResultadoFinal['Sell/Buy']\n",
    "dsell=[]\n",
    "dbuy=[]\n",
    "\n",
    "#condicional en el cual ponga 1 si son sell o buy dependiendo la condicion y que sea positivo el profit, sino poner 0\n",
    "#condicional de sell \n",
    "for i in range(len(k)):\n",
    "    if kk[i]==\"sell\":\n",
    "        if k[i]>0:\n",
    "            dsell.append(1)\n",
    "        else:\n",
    "            if k[i]<0:\n",
    "                dsell.append(0)\n",
    "    else:\n",
    "        dsell.append(0)\n",
    "                                            \n",
    "colnames4=list(Tabla_Final2.columns)\n",
    "Tabla_Final2[\"profitsell\"] = dsell\n",
    "Tabla_Final4=Tabla_Final2[colnames4]\n",
    "\n",
    " #condicional de buy\n",
    "for i in range(len(k)):\n",
    "    if kk[i]==\"buy\":\n",
    "        if k[i]>0:\n",
    "            dbuy.append(1)\n",
    "        else:\n",
    "            if k[i]<0:\n",
    "                dbuy.append(0)\n",
    "    else:\n",
    "        dbuy.append(0)\n",
    "                                                          \n",
    "colnames5=list(Tabla_Final4.columns)\n",
    "Tabla_Final2[\"profitbuy\"] = dbuy\n",
    "Tabla_Final5=Tabla_Final2[colnames5]\n",
    "buy1=ic3[0]\n",
    "sell1=ic3[1]\n",
    "\n",
    "z=Tabla_Final2['profitsell']\n",
    "zz=Tabla_Final2['profitbuy']\n",
    "\n",
    " #de esta manera al sumar los 1 son la cantidad de sell o buy co profit positivo y asi podemos sacar el ratio\n",
    "zsum=sum(z)\n",
    "zzsum=sum(zz)\n",
    "\n",
    "rgsell=zzsum/sell1\n",
    "rgbuy=zsum/buy1\n",
    "\n",
    "rpsell = 1-rgsell\n",
    "rpbuy = 1-rgbuy\n",
    "\n",
    "#Contador de tipo de trades realizados\n",
    "\n",
    "gano = rgbuy\n",
    "perdio = rpbuy"
   ]
  },
  {
   "cell_type": "code",
   "execution_count": 12,
   "metadata": {},
   "outputs": [
    {
     "data": {
      "image/png": "[encoded data removed]",
      "text/plain": [
       "<matplotlib.figure.Figure at 0xee93507b00>"
      ]
     },
     "metadata": {},
     "output_type": "display_data"
    }
   ],
   "source": [
    "#Sell\n",
    "gano2 = rgsell\n",
    "perdio2 = rpsell\n",
    "\n",
    "#Parametros de la lista\n",
    "labels = ('Operacion Positiva', 'Operacion Negativa')\n",
    "sizes = [gano2, perdio2]\n",
    "colors = ['royalblue', 'goldenrod']\n",
    "explode = (0.05, 0)  # explode 1st slice\n",
    "\n",
    "# Plot\n",
    "plt.pie(sizes, explode, labels, colors, autopct=('%.2f'))\n",
    "plt.axis('equal')\n",
    "plt.suptitle('Transacciones de venta - Operaciones Positivas vs. Negativas', color = 'mediumblue', size = 17)\n",
    "plt.show()"
   ]
  },
  {
   "cell_type": "code",
   "execution_count": 13,
   "metadata": {},
   "outputs": [
    {
     "data": {
      "image/png": "[encoded data removed]",
      "text/plain": [
       "<matplotlib.figure.Figure at 0xee93606198>"
      ]
     },
     "metadata": {},
     "output_type": "display_data"
    }
   ],
   "source": [
    "#Buy\n",
    "gano3 = rgbuy\n",
    "perdio3 = rpbuy\n",
    "\n",
    "#Parametros de la lista\n",
    "labels = ('Operacion Positiva', 'Operacion Negativa')\n",
    "sizes = [gano3, perdio3]\n",
    "colors = ['royalblue', 'goldenrod']\n",
    "explode = (0.05, 0)  # explode 1st slice\n",
    "\n",
    "# Plot\n",
    "plt.pie(sizes, explode, labels, colors, autopct=('%.2f'))\n",
    "plt.axis('equal')\n",
    "plt.suptitle('Transacciones de compra - Operaciones Positivas vs. Negativas', color = 'mediumblue', size = 17)\n",
    "plt.show()"
   ]
  },
  {
   "cell_type": "markdown",
   "metadata": {},
   "source": [
    "### En la siguiente parte del codigo, se obtiene el Top 5 de los activos que el trader mas utilizo y obtuvimos su ratio de acertividad junto con las ganancias que cada uno de estos activos le genero al trader"
   ]
  },
  {
   "cell_type": "code",
   "execution_count": 14,
   "metadata": {},
   "outputs": [],
   "source": [
    "#Convertimos la columna de Items en una lista\n",
    "df = itemArr.tolist()\n",
    "#Usamos la funcion Counter para contar cuantas veces se repiten las palabras\n",
    "counter = Counter(df)\n",
    "#Asignamos una variable que escoge las Top 5 transacciones mas repetidas\n",
    "top5 = counter.most_common(5)\n",
    "#Convertimos  el Top 5 de transacciones en DataFrame para manipularlo como grafica\n",
    "top5frame = pd.DataFrame(top5)"
   ]
  },
  {
   "cell_type": "code",
   "execution_count": 15,
   "metadata": {},
   "outputs": [],
   "source": [
    "#Top 5 - 1er Activo\n",
    "var1 = top5frame.iloc[0,0]\n",
    "deurusd=[]\n",
    "\n",
    "for i in range(len(k)):\n",
    "    if df[i] == var1:\n",
    "        if k[i]>0:\n",
    "            deurusd.append(1)\n",
    "        else:\n",
    "            if k[i]<0:\n",
    "                deurusd.append(0)\n",
    "    else:\n",
    "        deurusd.append(0)\n",
    "\n",
    "#Juntamos la nueva columna a la tabla\n",
    "colnames6=list(Tabla_Final2.columns)\n",
    "Tabla_Final2[\"Top 5 - #1\"] = deurusd\n",
    "Tabla_Final6=Tabla_Final2[colnames6]"
   ]
  },
  {
   "cell_type": "code",
   "execution_count": 16,
   "metadata": {},
   "outputs": [],
   "source": [
    "#Top 5 - 2ndo Activo\n",
    "var2 = top5frame.iloc[1,0]\n",
    "dusdcad=[]\n",
    "\n",
    "for i in range(len(k)):\n",
    "    if df[i]==var2:\n",
    "        if k[i]>0:\n",
    "            dusdcad.append(1)\n",
    "        else:\n",
    "            if k[i]<0:\n",
    "                dusdcad.append(0)\n",
    "    else:\n",
    "        dusdcad.append(0)\n",
    "\n",
    "#Juntamos la nueva columna a la tabla\n",
    "colnames7=list(Tabla_Final2.columns)\n",
    "Tabla_Final2[\"Top 5 - #2\"] = dusdcad\n",
    "Tabla_Final7=Tabla_Final2[colnames7]"
   ]
  },
  {
   "cell_type": "code",
   "execution_count": 17,
   "metadata": {},
   "outputs": [],
   "source": [
    "#Top 5 - 3er Activo\n",
    "var3 = top5frame.iloc[2,0]\n",
    "daudusd=[]\n",
    "\n",
    "for i in range(len(k)):\n",
    "    if df[i]==var3:\n",
    "        if k[i]>0:\n",
    "            daudusd.append(1)\n",
    "        else:\n",
    "            if k[i]<0:\n",
    "                daudusd.append(0)\n",
    "    else:\n",
    "        daudusd.append(0)\n",
    "\n",
    "#Juntamos la nueva columna a la tabla\n",
    "colnames8=list(Tabla_Final2.columns)\n",
    "Tabla_Final2[\"Top 5 - #3\"] = daudusd\n",
    "Tabla_Final8=Tabla_Final2[colnames8]"
   ]
  },
  {
   "cell_type": "code",
   "execution_count": 18,
   "metadata": {},
   "outputs": [],
   "source": [
    "#Top 5 - 4to Activo \n",
    "var4 = top5frame.iloc[3,0]\n",
    "dxauusd=[]\n",
    "\n",
    "for i in range(len(k)):\n",
    "    if df[i]==var4:\n",
    "        if k[i]>0:\n",
    "            dxauusd.append(1)\n",
    "        else:\n",
    "            if k[i]<0:\n",
    "                dxauusd.append(0)\n",
    "    else:\n",
    "        dxauusd.append(0)\n",
    "\n",
    "#Juntamos la nueva columna a la tabla\n",
    "colnames9=list(Tabla_Final2.columns)\n",
    "Tabla_Final2[\"Top 5 - #4\"] = dxauusd\n",
    "Tabla_Final9=Tabla_Final2[colnames9]"
   ]
  },
  {
   "cell_type": "code",
   "execution_count": 19,
   "metadata": {},
   "outputs": [],
   "source": [
    "#Top 5 - 5to Activo \n",
    "var5 = top5frame.iloc[4,0]\n",
    "dgbpusd=[]\n",
    "\n",
    "for i in range(len(k)):\n",
    "    if df[i]==var5:\n",
    "        if k[i]>0:\n",
    "            dgbpusd.append(1)\n",
    "        else:\n",
    "            if k[i]<0:\n",
    "                dgbpusd.append(0)\n",
    "    else:\n",
    "        dgbpusd.append(0)\n",
    "\n",
    "#Juntamos la nueva columna a la tabla\n",
    "colnames10=list(Tabla_Final2.columns)\n",
    "Tabla_Final2[\"Top 5 - #5\"] = dgbpusd\n",
    "Tabla_Final10=Tabla_Final2[colnames10]"
   ]
  },
  {
   "cell_type": "markdown",
   "metadata": {},
   "source": [
    "### Ahora para sacar los PIP's, filtraremos nuestros datos a los Top 5"
   ]
  },
  {
   "cell_type": "code",
   "execution_count": 20,
   "metadata": {},
   "outputs": [],
   "source": [
    "#Top 5 - 1er Activo, PIP's, este programa es para identificar este item\n",
    "var1 = top5frame.iloc[0,0]\n",
    "deurusd1=[]\n",
    "\n",
    "for i in range(len(k)):\n",
    "    if df[i] == var1:\n",
    "        deurusd1.append(1)\n",
    "    else:\n",
    "        deurusd1.append(0)\n",
    "\n",
    "#Juntamos la nueva columna a la tabla\n",
    "colnames11=list(Tabla_Final2.columns)\n",
    "Tabla_Final2[\"#1\"] = deurusd1\n",
    "Tabla_Final11=Tabla_Final2[colnames11]"
   ]
  },
  {
   "cell_type": "code",
   "execution_count": 21,
   "metadata": {},
   "outputs": [],
   "source": [
    "#Top 5 - 2ndo Activo, PIP's, este programa es para identificar este item\n",
    "var2 = top5frame.iloc[1,0]\n",
    "dusdcad1=[]\n",
    "\n",
    "for i in range(len(k)):\n",
    "    if df[i]==var2:\n",
    "        dusdcad1.append(1)\n",
    "    else:\n",
    "        dusdcad1.append(0)\n",
    "\n",
    "#Juntamos la nueva columna a la tabla\n",
    "colnames12=list(Tabla_Final2.columns)\n",
    "Tabla_Final2[\"#2\"] = dusdcad1\n",
    "Tabla_Final12=Tabla_Final2[colnames12]"
   ]
  },
  {
   "cell_type": "code",
   "execution_count": 22,
   "metadata": {},
   "outputs": [],
   "source": [
    "#Top 5 - 3er Activo, PIP's, este programa es para identificar este item\n",
    "var3 = top5frame.iloc[2,0]\n",
    "daudusd1=[]\n",
    "\n",
    "for i in range(len(k)):\n",
    "    if df[i]==var3:\n",
    "        daudusd1.append(1)\n",
    "    else:\n",
    "        daudusd1.append(0)\n",
    "\n",
    "#Juntamos la nueva columna a la tabla\n",
    "colnames13=list(Tabla_Final2.columns)\n",
    "Tabla_Final2[\"#3\"] = daudusd1\n",
    "Tabla_Final13=Tabla_Final2[colnames13]"
   ]
  },
  {
   "cell_type": "code",
   "execution_count": 23,
   "metadata": {},
   "outputs": [],
   "source": [
    "#Top 5 - 4to Activo,  PIP's, este programa es para identificar este item\n",
    "var4 = top5frame.iloc[3,0]\n",
    "dxauusd1=[]\n",
    "\n",
    "for i in range(len(k)):\n",
    "    if df[i]==var4:\n",
    "        dxauusd1.append(1)\n",
    "    else:\n",
    "        dxauusd1.append(0)\n",
    "        \n",
    "#Juntamos la nueva columna a la tabla\n",
    "colnames14=list(Tabla_Final2.columns)\n",
    "Tabla_Final2[\"#4\"] = dxauusd1\n",
    "Tabla_Final14=Tabla_Final2[colnames14]"
   ]
  },
  {
   "cell_type": "code",
   "execution_count": 24,
   "metadata": {},
   "outputs": [],
   "source": [
    "#Top 5 - 5to Activo, PIP's, este programa es para identificar este item\n",
    "var5 = top5frame.iloc[4,0]\n",
    "dgbpusd1=[]\n",
    "\n",
    "for i in range(len(k)):\n",
    "    if df[i]==var5:\n",
    "        dgbpusd1.append(1)\n",
    "    else:\n",
    "        dgbpusd1.append(0)\n",
    "#Juntamos la nueva columna a la tabla\n",
    "colnames15=list(Tabla_Final2.columns)\n",
    "Tabla_Final2[\"#5\"] = dgbpusd1\n",
    "Tabla_Final15=Tabla_Final2[colnames15]"
   ]
  },
  {
   "cell_type": "code",
   "execution_count": 25,
   "metadata": {},
   "outputs": [],
   "source": [
    "#Asigmos nuevo nombre a variables\n",
    "eu=deurusd\n",
    "uc=dusdcad\n",
    "au=daudusd\n",
    "xu=dxauusd\n",
    "gu=dgbpusd\n",
    "\n",
    "#Asigmos nuevo nombre a variables\n",
    "peu=deurusd1\n",
    "puc=dusdcad1\n",
    "pau=daudusd1\n",
    "pxu=dxauusd1\n",
    "pgu=dgbpusd1\n",
    "\n",
    "#Total de cuantos \"1\" hay en cada item\n",
    "eu1=sum(eu)\n",
    "uc1=sum(uc)\n",
    "au1=sum(au)\n",
    "xu1=sum(xu)\n",
    "gu1=sum(gu)\n",
    "\n",
    "#Asignamos nombre a cada una de las opciones respecto a su posicion en la tabla\n",
    "opc1 = top5frame.iloc[0,1]\n",
    "opc2 = top5frame.iloc[1,1]\n",
    "opc3 = top5frame.iloc[2,1]\n",
    "opc4 = top5frame.iloc[3,1]\n",
    "opc5 = top5frame.iloc[4,1]"
   ]
  },
  {
   "cell_type": "code",
   "execution_count": 26,
   "metadata": {},
   "outputs": [],
   "source": [
    "#La suma de los PIP's de los top 5 instrumentos\n",
    "x = ResultadoFinal['PIP']\n",
    "pip1=x*peu\n",
    "pip2=x*puc\n",
    "pip3=x*pau\n",
    "pip4=x*pxu\n",
    "pip5=x*pgu\n",
    "\n",
    "sumpip1=sum(pip1)\n",
    "sumpip2=sum(pip2)\n",
    "sumpip3=sum(pip3)\n",
    "sumpip4=sum(pip4)\n",
    "sumpip5=sum(pip5)"
   ]
  },
  {
   "cell_type": "code",
   "execution_count": 27,
   "metadata": {},
   "outputs": [],
   "source": [
    "#Grado de acertividad de cada activo\n",
    "reu=(eu1/opc1)\n",
    "ruc=(uc1/opc2)\n",
    "rau=(au1/opc3)\n",
    "rxu=(xu1/opc4)\n",
    "rgu=(gu1/opc5)"
   ]
  },
  {
   "cell_type": "code",
   "execution_count": 28,
   "metadata": {},
   "outputs": [],
   "source": [
    "#Multiplicacion del profit por cada item, esto para saber cuanto dinero se gano\n",
    "deu=k*eu\n",
    "duc=k*uc\n",
    "dau=k*au\n",
    "dxu=k*xu\n",
    "dgu=k*gu"
   ]
  },
  {
   "cell_type": "code",
   "execution_count": 29,
   "metadata": {},
   "outputs": [],
   "source": [
    "#Sumando el total de dinero ganado\n",
    "ddeu=(sum(deu))\n",
    "dduc=(sum(duc))\n",
    "ddau=(sum(dau))\n",
    "ddxu=(sum(dxu))\n",
    "ddgu=(sum(dgu))"
   ]
  },
  {
   "cell_type": "code",
   "execution_count": 30,
   "metadata": {},
   "outputs": [
    {
     "data": {
      "text/html": [
       "<h3>Tabla de activos mas tradeados</h3>"
      ],
      "text/plain": [
       "<IPython.core.display.HTML object>"
      ]
     },
     "metadata": {},
     "output_type": "display_data"
    },
    {
     "name": "stdout",
     "output_type": "stream",
     "text": [
      "   Activo  Cantidad\n",
      "0  eurusd        39\n",
      "1  usdcad        26\n",
      "2  audusd        22\n",
      "3  xauusd        17\n",
      "4  gbpusd        15\n"
     ]
    },
    {
     "data": {
      "image/png": "[encoded data removed]",
      "text/plain": [
       "<matplotlib.figure.Figure at 0xee93d9ac50>"
      ]
     },
     "metadata": {},
     "output_type": "display_data"
    },
    {
     "name": "stdout",
     "output_type": "stream",
     "text": [
      "   Activo  Ratio %  Ganancias $  Ganancias PIP\n",
      "0  eurusd     74.0       304.83          319.8\n",
      "1  usdcad     42.0        88.17          -57.1\n",
      "2  audusd     55.0        96.68          -22.0\n",
      "3  xauusd     53.0        71.96         -285.6\n",
      "4  gbpusd     80.0        60.42          111.9\n"
     ]
    }
   ],
   "source": [
    "#Lista de los Top 5 tipos de trade\n",
    "listaprueba1 = (var1, var2, var3, var4, var5)\n",
    "listaprueba2 = list(listaprueba1)\n",
    "\n",
    "#Lista de los grados de acertividad\n",
    "listaprueba3 = ((round(reu,2)*100),round(ruc,2)*100,round(rau,2)*100,round(rxu,2)*100,round(rgu,2)*100)\n",
    "listaprueba4 = list(listaprueba3)\n",
    "\n",
    "#Lista de las ganancias de estos trades\n",
    "listaprueba5 = (round(ddeu,2), round(dduc,2), round(ddau,2), round(ddxu,2), round(ddgu,2))\n",
    "listaprueba6 = list(listaprueba5)\n",
    "\n",
    "#Lista de las ganancias en PIP de estos trades\n",
    "listaprueba7 = (round(sumpip1,2), round(sumpip2,2), round(sumpip3,2), round(sumpip4,2), round(sumpip5,2))\n",
    "listaprueba8 = list(listaprueba7)\n",
    "\n",
    "#Union de las listas con titulos\n",
    "res = zip(listaprueba2, listaprueba4, listaprueba5)\n",
    "res2 = pd.DataFrame(list(zip(listaprueba2, listaprueba4, listaprueba6, listaprueba8)),\n",
    "              columns=['Activo','Ratio %', 'Ganancias $', 'Ganancias PIP'])\n",
    "\n",
    "#Le ponemos titulos a las filas del DataFrame\n",
    "top5frame.columns=[\"Activo\", \"Cantidad\"]\n",
    "#Titulo\n",
    "display(HTML('<h3>Tabla de activos mas tradeados</h3>'))\n",
    "#Mostramos el DataFrame con formato\n",
    "print(top5frame)\n",
    "#Hacemos una grafica de barras con los ejes de Activo y Cantidad, color azul\n",
    "top5frame.plot(kind='bar',x='Activo',y='Cantidad',color='blue')\n",
    "#Imprimimos la grafica\n",
    "plt.suptitle('Las 5 transacciones mas realizadas', color = 'mediumblue', size = 17)\n",
    "plt.show()\n",
    "\n",
    "#Imprimimos la matriz creada anteriomente que nos junta activo, ratio y ganancia\n",
    "print(res2)"
   ]
  },
  {
   "cell_type": "code",
   "execution_count": 36,
   "metadata": {},
   "outputs": [],
   "source": [
    "#Extraemos si es sell o buy\n",
    "second_column = Tabla_Final.iloc[: , 2]\n",
    "#Extraemos el tipo de trade\n",
    "first_column = Tabla_Final.iloc[: , 7]\n",
    "#Las juntamos en una sola fila\n",
    "c1 = (first_column + second_column)\n",
    "#Contamos cuantos trades de cada tipo ahay\n",
    "c2 = Counter(c1)\n",
    "#Convertimos el contador en un DataFrame para manipularlo\n",
    "c3 = pd.DataFrame(c2, index = [0])\n",
    "\n",
    "#Jalamos la cantidad de Operaciones Exitosas\n",
    "c4 = c3.iloc[0,0]\n",
    "c5 = c3.iloc[0,1]\n",
    "c6 = c3.iloc[0,2]\n",
    "c7 = c3.iloc[0,3]\n",
    "c8 = c3.iloc[0,4]\n",
    "c9 = c3.iloc[0,5]\n",
    "\n",
    "#Jalamos los nombres\n",
    "c04=c3.iloc[0:0]\n",
    "c05= list(c04)\n",
    "n1 = c05[0] #intradia buy\n",
    "n2 = c05[1] #intradia sell\n",
    "n3 = c05[2] #scalper buy\n",
    "n4 = c05[3] #scalper sell\n",
    "n5 = c05[4] #swing buy\n",
    "n6 = c05[5] #swing sell\n",
    "\n",
    "#Ponemos condiciones\n",
    "cc=(c1)\n",
    "ccc=[]\n",
    "for i in range(len(cc)):\n",
    "    if cc[i]==\"Intradiasell\":\n",
    "        if k[i]>0:\n",
    "            ccc.append(\"is\")\n",
    "    elif cc[i]==\"Intradiabuy\":\n",
    "        if k[i]>0:\n",
    "            ccc.append(\"ib\")\n",
    "    elif cc[i]==\"Scalpersell\":\n",
    "        if k[i]>0:\n",
    "            ccc.append(\"ss\")\n",
    "    elif cc[i]==\"Scalperbuy\":\n",
    "        if k[i]>0:\n",
    "            ccc.append(\"sb\")\n",
    "    elif cc[i]==\"Swingsell\":\n",
    "        if k[i]>0:\n",
    "            ccc.append(\"sws\")\n",
    "    elif cc[i]==\"Swingbuy\":\n",
    "        if k[i]>0:\n",
    "            ccc.append(\"swb\")\n",
    "    else:\n",
    "        ccc.append(\"no\")\n",
    "\n",
    "#Contamos las condiciones\n",
    "c10=Counter(ccc)\n",
    "#Convertimos las condicionales en un DataFrame para manipulacion\n",
    "c11=pd.DataFrame(c10, index=[0])\n",
    "#Jalamos la cantidad de operaciones exitosas\n",
    "c12=c11.iloc[0,0] #Operaciones exitosas de Intradiabuy\n",
    "c13=c11.iloc[0,1] #Operaciones exitosas de Intradiasell\n",
    "c14=c11.iloc[0,2] #Operaciones exitosas de Scalperbuy\n",
    "c15=c11.iloc[0,3] #Operaciones exitosas de Scalpersell\n",
    "c16=c11.iloc[0,4] #Operaciones exitosas de Swingbuy\n",
    "c17=c11.iloc[0,5] #Operaciones exitosas de Swingsell"
   ]
  },
  {
   "cell_type": "code",
   "execution_count": 37,
   "metadata": {},
   "outputs": [],
   "source": [
    "#Ratio de acertividad\n",
    "rib=c12/c4\n",
    "ris=c13/c5\n",
    "rsb=c14/c6\n",
    "rss=c15/c7\n",
    "rswb=c16/c8\n",
    "rsws=c17/c9"
   ]
  },
  {
   "cell_type": "code",
   "execution_count": 40,
   "metadata": {},
   "outputs": [
    {
     "name": "stdout",
     "output_type": "stream",
     "text": [
      "  TIPO/OPERACION  TOTAL OPERACIONES  OPERACIONES EXITOSAS  RATIO ACERTIVIDAD %\n",
      "0    Intradiabuy                 55                    36                65.45\n",
      "1   Intradiasell                 67                    45                67.16\n",
      "2     Scalperbuy                 26                    19                73.08\n",
      "3    Scalpersell                 27                    16                59.26\n",
      "4       Swingbuy                 29                     5                17.24\n",
      "5      Swingsell                 23                    13                56.52\n"
     ]
    }
   ],
   "source": [
    "#Lista de los Top 5 tipos de trade y si es sell o buy\n",
    "listaprueba9 = (n1, n2, n3, n4, n5, n6)\n",
    "listaprueba10 = list(listaprueba9)\n",
    "\n",
    "#Lista  de numero de operaciones\n",
    "listaprueba11 = (c4,c5,c6,c7,c8,c9)\n",
    "listaprueba12 = list(listaprueba11)\n",
    "listaprueba15 = (c12, c13, c14, c15, c16, c17)\n",
    "listaprueba16 = list(listaprueba15)\n",
    "\n",
    "#Lista de los grados de acertividad\n",
    "listaprueba13 = ((round(rib,4)*100),round(ris,4)*100,round(rsb,4)*100,round(rss,4)*100,round(rswb,4)*100,round(rsws,4)*100)\n",
    "listaprueba14 = list(listaprueba13)\n",
    "\n",
    "#Union de las listas con titulos\n",
    "res3 = pd.DataFrame(list(zip(listaprueba10, listaprueba12, listaprueba16, listaprueba14)),\n",
    "        columns=['TIPO/OPERACION','TOTAL OPERACIONES','OPERACIONES EXITOSAS','RATIO ACERTIVIDAD %'])\n",
    "print(res3)"
   ]
  }
 ],
 "metadata": {
  "kernelspec": {
   "display_name": "Python 3",
   "language": "python",
   "name": "python3"
  },
  "language_info": {
   "codemirror_mode": {
    "name": "ipython",
    "version": 3
   },
   "file_extension": ".py",
   "mimetype": "text/x-python",
   "name": "python",
   "nbconvert_exporter": "python",
   "pygments_lexer": "ipython3",
   "version": "3.6.4"
  }
 },
 "nbformat": 4,
 "nbformat_minor": 2
}
